{
 "cells": [
  {
   "cell_type": "markdown",
   "metadata": {},
   "source": [
    "# Summarize_dtype\n",
    "\n",
    "This tutorial will guide you through the `summarize_dtypes_table` function, which provides a simple way to analyze and summarize data types within a dataset, making it easier to evaluate data structure characteristics.\n",
    "\n",
    "## Getting Started\n",
    "\n",
    "The `summarize_dtypes_table` function offers the following core functionalities:\n",
    "\n",
    "1. Summarizing Data Types:\n",
    "- Analyzes the input DataFrame to identify data types.\n",
    "- Outputs a summary table with the counts of each data type.\n",
    "- Converts data types to string format for consistent representation.\n",
    "\n",
    "2. Error Handling:\n",
    "- Ensures the input is a valid pandas DataFrame.\n",
    "- Raises a `TypeError` for invalid input types.\n",
    "\n",
    "## Necessary Libraries\n",
    "\n",
    "To use the `summarize_dtypes_table` function, ensure the following libraries are installed:"
   ]
  },
  {
   "cell_type": "code",
   "execution_count": 5,
   "metadata": {},
   "outputs": [
    {
     "ename": "ModuleNotFoundError",
     "evalue": "No module named 'summarease'",
     "output_type": "error",
     "traceback": [
      "\u001b[0;31m---------------------------------------------------------------------------\u001b[0m",
      "\u001b[0;31mModuleNotFoundError\u001b[0m                       Traceback (most recent call last)",
      "Cell \u001b[0;32mIn[5], line 2\u001b[0m\n\u001b[1;32m      1\u001b[0m \u001b[38;5;28;01mimport\u001b[39;00m\u001b[38;5;250m \u001b[39m\u001b[38;5;21;01mpandas\u001b[39;00m\u001b[38;5;250m \u001b[39m\u001b[38;5;28;01mas\u001b[39;00m\u001b[38;5;250m \u001b[39m\u001b[38;5;21;01mpd\u001b[39;00m\n\u001b[0;32m----> 2\u001b[0m \u001b[38;5;28;01mfrom\u001b[39;00m\u001b[38;5;250m \u001b[39m\u001b[38;5;21;01msummarease\u001b[39;00m\u001b[38;5;21;01m.\u001b[39;00m\u001b[38;5;21;01msummarize_dtypes\u001b[39;00m\u001b[38;5;250m \u001b[39m\u001b[38;5;28;01mimport\u001b[39;00m summarize_dtypes_table\n",
      "\u001b[0;31mModuleNotFoundError\u001b[0m: No module named 'summarease'"
     ]
    }
   ],
   "source": [
    "import pandas as pd\n",
    "from summarease.summarize_dtypes import summarize_dtypes_table"
   ]
  },
  {
   "cell_type": "markdown",
   "metadata": {},
   "source": [
    "## Example Dataset\n",
    "\n",
    "We'll use the following dataset to demonstrate the function's functionality:\n",
    "\n",
    "### Dataset: Employee Data"
   ]
  },
  {
   "cell_type": "code",
   "execution_count": 4,
   "metadata": {},
   "outputs": [],
   "source": [
    "data = pd.DataFrame({\n",
    "    'int_col': [1, 2, 3],\n",
    "    'float_col': [1.1, 2.2, 3.3],\n",
    "    'str_col': ['a', 'b', 'c'],\n",
    "    'bool_col': [True, False, True]\n",
    "})"
   ]
  },
  {
   "cell_type": "markdown",
   "metadata": {},
   "source": [
    "## How to Apply summarize_dtypes_table\n",
    "\n",
    "### Function Parameters\n",
    "\n",
    "The `summarize_dtypes_table` function accepts the following parameter:\n",
    "\n",
    "- dataset: The input dataset to analyze. It must be a pandas DataFrame.\n",
    "\n",
    "### Function Output\n",
    "\n",
    "The function returns a pandas DataFrame summarizing the counts of each data type in the dataset.\n",
    "\n",
    "### Example: Summarizing Data Type"
   ]
  },
  {
   "cell_type": "code",
   "execution_count": null,
   "metadata": {},
   "outputs": [],
   "source": [
    "# Summarize the data types in the dataset\n",
    "summary = summarize_dtypes_table(data)\n",
    "print(summary)"
   ]
  },
  {
   "cell_type": "markdown",
   "metadata": {},
   "source": [
    "## Real-Life Application: Analyzing Sales Data\n",
    "\n",
    "### Scenario\n",
    "\n",
    "Imagine you are analyzing sales data for a company. The dataset includes columns such as `TransactionID`, `CustomerName`, `PurchaseAmount`, and `IsMember`.\n",
    "\n",
    "### Dataset"
   ]
  },
  {
   "cell_type": "code",
   "execution_count": 6,
   "metadata": {},
   "outputs": [],
   "source": [
    "sales_data = pd.DataFrame({\n",
    "    'TransactionID': [1001, 1002, 1003],\n",
    "    'CustomerName': ['Alice', 'Bob', 'Charlie'],\n",
    "    'PurchaseAmount': [200.5, 150.0, 300.75],\n",
    "    'IsMember': [True, False, True]\n",
    "})"
   ]
  },
  {
   "cell_type": "code",
   "execution_count": 7,
   "metadata": {},
   "outputs": [
    {
     "ename": "NameError",
     "evalue": "name 'summarize_dtypes_table' is not defined",
     "output_type": "error",
     "traceback": [
      "\u001b[0;31m---------------------------------------------------------------------------\u001b[0m",
      "\u001b[0;31mNameError\u001b[0m                                 Traceback (most recent call last)",
      "Cell \u001b[0;32mIn[7], line 1\u001b[0m\n\u001b[0;32m----> 1\u001b[0m sales_summary \u001b[38;5;241m=\u001b[39m \u001b[43msummarize_dtypes_table\u001b[49m(sales_data)\n\u001b[1;32m      2\u001b[0m \u001b[38;5;28mprint\u001b[39m(sales_summary)\n",
      "\u001b[0;31mNameError\u001b[0m: name 'summarize_dtypes_table' is not defined"
     ]
    }
   ],
   "source": [
    "sales_summary = summarize_dtypes_table(sales_data)\n",
    "print(sales_summary)"
   ]
  },
  {
   "cell_type": "markdown",
   "metadata": {},
   "source": [
    "### Interpretation\n",
    "\n",
    "- `int64`: Represents integer data, such as `TransactionID`.\n",
    "- `float64`: Represents floating-point data, such as `PurchaseAmount`.\n",
    "- `object`: Represents string data, such as `CustomerName`.\n",
    "- `bool`: Represents boolean data, such as `IsMember`."
   ]
  },
  {
   "cell_type": "code",
   "execution_count": null,
   "metadata": {},
   "outputs": [],
   "source": []
  }
 ],
 "metadata": {
  "kernelspec": {
   "display_name": "Python 3 (ipykernel)",
   "language": "python",
   "name": "python3"
  },
  "language_info": {
   "codemirror_mode": {
    "name": "ipython",
    "version": 3
   },
   "file_extension": ".py",
   "mimetype": "text/x-python",
   "name": "python",
   "nbconvert_exporter": "python",
   "pygments_lexer": "ipython3",
   "version": "3.12.8"
  }
 },
 "nbformat": 4,
 "nbformat_minor": 4
}
