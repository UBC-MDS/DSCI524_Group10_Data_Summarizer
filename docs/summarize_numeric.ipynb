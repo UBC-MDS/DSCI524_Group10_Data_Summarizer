{
 "cells": [
  {
   "cell_type": "markdown",
   "metadata": {},
   "source": [
    "# Summarize_numeric\n",
    "\n",
    "This tutorial will guide you through the `summarease.summarize_numeric` module, which provides tools to generate summary statistics or visualizations for numeric variables in a dataset, helping you understand key patterns and relationships between your numeric data.\n",
    "\n",
    "## Getting started\n",
    "\n",
    "\n",
    "The `summarease.summarize_numeric` module offers the following core functionalities:\n",
    "\n",
    "\n",
    "1. **Summarizing Numeric Variables:**\n",
    "- Outputs summary statistics for each numeric column (mean, standard deviation, min, max, etc.).\n",
    "- Useful for quickly understanding the distribution and spread of numeric features.\n",
    "\n",
    "2. **Visualizing Numeric Relationships:**\n",
    "- Generates density plots for each numeric column to visualize their distributions.\n",
    "- Creates a correlation heatmap to explore the relationships between multiple numeric variables.\n",
    "\n",
    "## Necessary libraries\n",
    "\n",
    "\n",
    "To use the `summarease.summarize_numeric` module, ensure the following libraries are installed:"
   ]
  },
  {
   "cell_type": "code",
   "execution_count": 1,
   "metadata": {},
   "outputs": [],
   "source": [
    "import pandas as pd\n",
    "import altair as alt\n",
    "from summarease.summarize_numeric import summarize_numeric, plot_numeric_density, plot_correlation_heatmap"
   ]
  },
  {
   "cell_type": "markdown",
   "metadata": {},
   "source": [
    "## Example dataset\n",
    "\n",
    "\n",
    "We'll use the following dataset to demonstrate the module's functionality:\n",
    "\n",
    "### Dataset: Numeric Data"
   ]
  },
  {
   "cell_type": "code",
   "execution_count": 3,
   "metadata": {},
   "outputs": [],
   "source": [
    "numeric_data = pd.DataFrame({\n",
    "    'feature1': [1.2, 2.3, 3.1, 4.8, 5.5, 6.7, 8.9, 10.1],\n",
    "    'feature2': [3.2, 4.5, 5.1, 6.0, 7.8, 8.3, 9.1, 10.7],\n",
    "    'feature3': [1.1, 2.2, 3.1, 4.0, 5.4, 6.6, 7.7, 8.5]\n",
    "})"
   ]
  },
  {
   "cell_type": "markdown",
   "metadata": {},
   "source": [
    "## Example usage\n",
    "\n",
    "### `summarize_numeric`\n",
    "\n",
    "This function calculates summary statistics or generates visualizations for numeric columns. It takes two parameters:\n",
    "\n",
    "\n",
    "- `dataset`: The input dataset containing numeric variables. It must be a DataFrame.\n",
    "- `summarize_by`: Specifies the format for summarizing the numeric variables. It can be either `\"table\"` (default) to generate a summary table, or `\"plot\"` to generate visualizations like density plots and a correlation heatmap.\n",
    "\n",
    "#### Example 1: Summarizing with a Table"
   ]
  },
  {
   "cell_type": "code",
   "execution_count": 4,
   "metadata": {},
   "outputs": [
    {
     "data": {
      "text/html": [
       "<div>\n",
       "<style scoped>\n",
       "    .dataframe tbody tr th:only-of-type {\n",
       "        vertical-align: middle;\n",
       "    }\n",
       "\n",
       "    .dataframe tbody tr th {\n",
       "        vertical-align: top;\n",
       "    }\n",
       "\n",
       "    .dataframe thead th {\n",
       "        text-align: right;\n",
       "    }\n",
       "</style>\n",
       "<table border=\"1\" class=\"dataframe\">\n",
       "  <thead>\n",
       "    <tr style=\"text-align: right;\">\n",
       "      <th></th>\n",
       "      <th>feature1</th>\n",
       "      <th>feature2</th>\n",
       "      <th>feature3</th>\n",
       "    </tr>\n",
       "  </thead>\n",
       "  <tbody>\n",
       "    <tr>\n",
       "      <th>count</th>\n",
       "      <td>8.000000</td>\n",
       "      <td>8.000000</td>\n",
       "      <td>8.000000</td>\n",
       "    </tr>\n",
       "    <tr>\n",
       "      <th>mean</th>\n",
       "      <td>5.325000</td>\n",
       "      <td>6.837500</td>\n",
       "      <td>4.825000</td>\n",
       "    </tr>\n",
       "    <tr>\n",
       "      <th>std</th>\n",
       "      <td>3.137219</td>\n",
       "      <td>2.550035</td>\n",
       "      <td>2.663912</td>\n",
       "    </tr>\n",
       "    <tr>\n",
       "      <th>min</th>\n",
       "      <td>1.200000</td>\n",
       "      <td>3.200000</td>\n",
       "      <td>1.100000</td>\n",
       "    </tr>\n",
       "    <tr>\n",
       "      <th>25%</th>\n",
       "      <td>2.900000</td>\n",
       "      <td>4.950000</td>\n",
       "      <td>2.875000</td>\n",
       "    </tr>\n",
       "    <tr>\n",
       "      <th>50%</th>\n",
       "      <td>5.150000</td>\n",
       "      <td>6.900000</td>\n",
       "      <td>4.700000</td>\n",
       "    </tr>\n",
       "    <tr>\n",
       "      <th>75%</th>\n",
       "      <td>7.250000</td>\n",
       "      <td>8.500000</td>\n",
       "      <td>6.875000</td>\n",
       "    </tr>\n",
       "    <tr>\n",
       "      <th>max</th>\n",
       "      <td>10.100000</td>\n",
       "      <td>10.700000</td>\n",
       "      <td>8.500000</td>\n",
       "    </tr>\n",
       "  </tbody>\n",
       "</table>\n",
       "</div>"
      ],
      "text/plain": [
       "        feature1   feature2  feature3\n",
       "count   8.000000   8.000000  8.000000\n",
       "mean    5.325000   6.837500  4.825000\n",
       "std     3.137219   2.550035  2.663912\n",
       "min     1.200000   3.200000  1.100000\n",
       "25%     2.900000   4.950000  2.875000\n",
       "50%     5.150000   6.900000  4.700000\n",
       "75%     7.250000   8.500000  6.875000\n",
       "max    10.100000  10.700000  8.500000"
      ]
     },
     "execution_count": 4,
     "metadata": {},
     "output_type": "execute_result"
    }
   ],
   "source": [
    "# Summarize numeric variables in the dataset by generating summary statistics\n",
    "summary_table = summarize_numeric(dataset=numeric_data, summarize_by=\"table\")\n",
    "summary_table[\"numeric_describe\"]"
   ]
  },
  {
   "cell_type": "markdown",
   "metadata": {},
   "source": [
    "#### Example 2: Visualizing Numeric Relationships"
   ]
  },
  {
   "cell_type": "code",
   "execution_count": 5,
   "metadata": {},
   "outputs": [
    {
     "data": {
      "text/html": [
       "\n",
       "<style>\n",
       "  #altair-viz-57e178f84b6a49a28224478badc44cf4.vega-embed {\n",
       "    width: 100%;\n",
       "    display: flex;\n",
       "  }\n",
       "\n",
       "  #altair-viz-57e178f84b6a49a28224478badc44cf4.vega-embed details,\n",
       "  #altair-viz-57e178f84b6a49a28224478badc44cf4.vega-embed details summary {\n",
       "    position: relative;\n",
       "  }\n",
       "</style>\n",
       "<div id=\"altair-viz-57e178f84b6a49a28224478badc44cf4\"></div>\n",
       "<script type=\"text/javascript\">\n",
       "  var VEGA_DEBUG = (typeof VEGA_DEBUG == \"undefined\") ? {} : VEGA_DEBUG;\n",
       "  (function(spec, embedOpt){\n",
       "    let outputDiv = document.currentScript.previousElementSibling;\n",
       "    if (outputDiv.id !== \"altair-viz-57e178f84b6a49a28224478badc44cf4\") {\n",
       "      outputDiv = document.getElementById(\"altair-viz-57e178f84b6a49a28224478badc44cf4\");\n",
       "    }\n",
       "\n",
       "    const paths = {\n",
       "      \"vega\": \"https://cdn.jsdelivr.net/npm/vega@5?noext\",\n",
       "      \"vega-lib\": \"https://cdn.jsdelivr.net/npm/vega-lib?noext\",\n",
       "      \"vega-lite\": \"https://cdn.jsdelivr.net/npm/vega-lite@5.20.1?noext\",\n",
       "      \"vega-embed\": \"https://cdn.jsdelivr.net/npm/vega-embed@6?noext\",\n",
       "    };\n",
       "\n",
       "    function maybeLoadScript(lib, version) {\n",
       "      var key = `${lib.replace(\"-\", \"\")}_version`;\n",
       "      return (VEGA_DEBUG[key] == version) ?\n",
       "        Promise.resolve(paths[lib]) :\n",
       "        new Promise(function(resolve, reject) {\n",
       "          var s = document.createElement('script');\n",
       "          document.getElementsByTagName(\"head\")[0].appendChild(s);\n",
       "          s.async = true;\n",
       "          s.onload = () => {\n",
       "            VEGA_DEBUG[key] = version;\n",
       "            return resolve(paths[lib]);\n",
       "          };\n",
       "          s.onerror = () => reject(`Error loading script: ${paths[lib]}`);\n",
       "          s.src = paths[lib];\n",
       "        });\n",
       "    }\n",
       "\n",
       "    function showError(err) {\n",
       "      outputDiv.innerHTML = `<div class=\"error\" style=\"color:red;\">${err}</div>`;\n",
       "      throw err;\n",
       "    }\n",
       "\n",
       "    function displayChart(vegaEmbed) {\n",
       "      vegaEmbed(outputDiv, spec, embedOpt)\n",
       "        .catch(err => showError(`Javascript Error: ${err.message}<br>This usually means there's a typo in your chart specification. See the javascript console for the full traceback.`));\n",
       "    }\n",
       "\n",
       "    if(typeof define === \"function\" && define.amd) {\n",
       "      requirejs.config({paths});\n",
       "      let deps = [\"vega-embed\"];\n",
       "      require(deps, displayChart, err => showError(`Error loading script: ${err.message}`));\n",
       "    } else {\n",
       "      maybeLoadScript(\"vega\", \"5\")\n",
       "        .then(() => maybeLoadScript(\"vega-lite\", \"5.20.1\"))\n",
       "        .then(() => maybeLoadScript(\"vega-embed\", \"6\"))\n",
       "        .catch(showError)\n",
       "        .then(() => displayChart(vegaEmbed));\n",
       "    }\n",
       "  })({\"config\": {\"view\": {\"continuousWidth\": 300, \"continuousHeight\": 300}}, \"vconcat\": [{\"hconcat\": [{\"mark\": {\"type\": \"line\"}, \"encoding\": {\"color\": {\"value\": \"steelblue\"}, \"x\": {\"field\": \"value\", \"type\": \"quantitative\"}, \"y\": {\"field\": \"density\", \"type\": \"quantitative\"}}, \"title\": \"feature1\", \"transform\": [{\"density\": \"feature1\", \"as\": [\"value\", \"density\"]}]}, {\"mark\": {\"type\": \"line\"}, \"encoding\": {\"color\": {\"value\": \"steelblue\"}, \"x\": {\"field\": \"value\", \"type\": \"quantitative\"}, \"y\": {\"field\": \"density\", \"type\": \"quantitative\"}}, \"title\": \"feature2\", \"transform\": [{\"density\": \"feature2\", \"as\": [\"value\", \"density\"]}]}, {\"mark\": {\"type\": \"line\"}, \"encoding\": {\"color\": {\"value\": \"steelblue\"}, \"x\": {\"field\": \"value\", \"type\": \"quantitative\"}, \"y\": {\"field\": \"density\", \"type\": \"quantitative\"}}, \"title\": \"feature3\", \"transform\": [{\"density\": \"feature3\", \"as\": [\"value\", \"density\"]}]}]}], \"data\": {\"name\": \"data-f3ecd830f4298e24206306dd9986091a\"}, \"$schema\": \"https://vega.github.io/schema/vega-lite/v5.20.1.json\", \"datasets\": {\"data-f3ecd830f4298e24206306dd9986091a\": [{\"feature1\": 1.2, \"feature2\": 3.2, \"feature3\": 1.1}, {\"feature1\": 2.3, \"feature2\": 4.5, \"feature3\": 2.2}, {\"feature1\": 3.1, \"feature2\": 5.1, \"feature3\": 3.1}, {\"feature1\": 4.8, \"feature2\": 6.0, \"feature3\": 4.0}, {\"feature1\": 5.5, \"feature2\": 7.8, \"feature3\": 5.4}, {\"feature1\": 6.7, \"feature2\": 8.3, \"feature3\": 6.6}, {\"feature1\": 8.9, \"feature2\": 9.1, \"feature3\": 7.7}, {\"feature1\": 10.1, \"feature2\": 10.7, \"feature3\": 8.5}]}}, {\"mode\": \"vega-lite\"});\n",
       "</script>"
      ],
      "text/plain": [
       "alt.VConcatChart(...)"
      ]
     },
     "metadata": {},
     "output_type": "display_data"
    },
    {
     "data": {
      "text/html": [
       "\n",
       "<style>\n",
       "  #altair-viz-48090843eeb3419e83b3eaf1d09820ca.vega-embed {\n",
       "    width: 100%;\n",
       "    display: flex;\n",
       "  }\n",
       "\n",
       "  #altair-viz-48090843eeb3419e83b3eaf1d09820ca.vega-embed details,\n",
       "  #altair-viz-48090843eeb3419e83b3eaf1d09820ca.vega-embed details summary {\n",
       "    position: relative;\n",
       "  }\n",
       "</style>\n",
       "<div id=\"altair-viz-48090843eeb3419e83b3eaf1d09820ca\"></div>\n",
       "<script type=\"text/javascript\">\n",
       "  var VEGA_DEBUG = (typeof VEGA_DEBUG == \"undefined\") ? {} : VEGA_DEBUG;\n",
       "  (function(spec, embedOpt){\n",
       "    let outputDiv = document.currentScript.previousElementSibling;\n",
       "    if (outputDiv.id !== \"altair-viz-48090843eeb3419e83b3eaf1d09820ca\") {\n",
       "      outputDiv = document.getElementById(\"altair-viz-48090843eeb3419e83b3eaf1d09820ca\");\n",
       "    }\n",
       "\n",
       "    const paths = {\n",
       "      \"vega\": \"https://cdn.jsdelivr.net/npm/vega@5?noext\",\n",
       "      \"vega-lib\": \"https://cdn.jsdelivr.net/npm/vega-lib?noext\",\n",
       "      \"vega-lite\": \"https://cdn.jsdelivr.net/npm/vega-lite@5.20.1?noext\",\n",
       "      \"vega-embed\": \"https://cdn.jsdelivr.net/npm/vega-embed@6?noext\",\n",
       "    };\n",
       "\n",
       "    function maybeLoadScript(lib, version) {\n",
       "      var key = `${lib.replace(\"-\", \"\")}_version`;\n",
       "      return (VEGA_DEBUG[key] == version) ?\n",
       "        Promise.resolve(paths[lib]) :\n",
       "        new Promise(function(resolve, reject) {\n",
       "          var s = document.createElement('script');\n",
       "          document.getElementsByTagName(\"head\")[0].appendChild(s);\n",
       "          s.async = true;\n",
       "          s.onload = () => {\n",
       "            VEGA_DEBUG[key] = version;\n",
       "            return resolve(paths[lib]);\n",
       "          };\n",
       "          s.onerror = () => reject(`Error loading script: ${paths[lib]}`);\n",
       "          s.src = paths[lib];\n",
       "        });\n",
       "    }\n",
       "\n",
       "    function showError(err) {\n",
       "      outputDiv.innerHTML = `<div class=\"error\" style=\"color:red;\">${err}</div>`;\n",
       "      throw err;\n",
       "    }\n",
       "\n",
       "    function displayChart(vegaEmbed) {\n",
       "      vegaEmbed(outputDiv, spec, embedOpt)\n",
       "        .catch(err => showError(`Javascript Error: ${err.message}<br>This usually means there's a typo in your chart specification. See the javascript console for the full traceback.`));\n",
       "    }\n",
       "\n",
       "    if(typeof define === \"function\" && define.amd) {\n",
       "      requirejs.config({paths});\n",
       "      let deps = [\"vega-embed\"];\n",
       "      require(deps, displayChart, err => showError(`Error loading script: ${err.message}`));\n",
       "    } else {\n",
       "      maybeLoadScript(\"vega\", \"5\")\n",
       "        .then(() => maybeLoadScript(\"vega-lite\", \"5.20.1\"))\n",
       "        .then(() => maybeLoadScript(\"vega-embed\", \"6\"))\n",
       "        .catch(showError)\n",
       "        .then(() => displayChart(vegaEmbed));\n",
       "    }\n",
       "  })({\"config\": {\"view\": {\"continuousWidth\": 300, \"continuousHeight\": 300}}, \"layer\": [{\"mark\": {\"type\": \"rect\"}, \"encoding\": {\"color\": {\"field\": \"Correlation\", \"type\": \"quantitative\"}, \"tooltip\": [{\"field\": \"Var1\", \"type\": \"nominal\"}, {\"field\": \"Var2\", \"type\": \"nominal\"}, {\"field\": \"Correlation\", \"type\": \"quantitative\"}], \"x\": {\"field\": \"Var1\", \"type\": \"nominal\"}, \"y\": {\"field\": \"Var2\", \"type\": \"nominal\"}}}, {\"mark\": {\"type\": \"text\", \"dy\": -5}, \"encoding\": {\"text\": {\"field\": \"Correlation\", \"type\": \"quantitative\"}, \"x\": {\"field\": \"Var1\", \"type\": \"nominal\"}, \"y\": {\"field\": \"Var2\", \"type\": \"nominal\"}}}], \"data\": {\"name\": \"data-cea1766816c2db85c11ef1cfc80d91ab\"}, \"height\": 400, \"width\": 400, \"$schema\": \"https://vega.github.io/schema/vega-lite/v5.20.1.json\", \"datasets\": {\"data-cea1766816c2db85c11ef1cfc80d91ab\": [{\"Var1\": \"feature1\", \"Var2\": \"feature1\", \"Correlation\": 1.0}, {\"Var1\": \"feature2\", \"Var2\": \"feature1\", \"Correlation\": 0.98}, {\"Var1\": \"feature3\", \"Var2\": \"feature1\", \"Correlation\": 0.99}, {\"Var1\": \"feature1\", \"Var2\": \"feature2\", \"Correlation\": 0.98}, {\"Var1\": \"feature2\", \"Var2\": \"feature2\", \"Correlation\": 1.0}, {\"Var1\": \"feature3\", \"Var2\": \"feature2\", \"Correlation\": 0.99}, {\"Var1\": \"feature1\", \"Var2\": \"feature3\", \"Correlation\": 0.99}, {\"Var1\": \"feature2\", \"Var2\": \"feature3\", \"Correlation\": 0.99}, {\"Var1\": \"feature3\", \"Var2\": \"feature3\", \"Correlation\": 1.0}]}}, {\"mode\": \"vega-lite\"});\n",
       "</script>"
      ],
      "text/plain": [
       "alt.LayerChart(...)"
      ]
     },
     "metadata": {},
     "output_type": "display_data"
    }
   ],
   "source": [
    "# Visualize the distribution of numeric variables and their correlations\n",
    "numeric_plots = summarize_numeric(dataset=numeric_data, summarize_by=\"plot\")\n",
    "numeric_plots[\"numeric_plot\"].show()  # Display density plots\n",
    "numeric_plots[\"corr_plot\"].show()    # Display correlation heatmap"
   ]
  },
  {
   "cell_type": "markdown",
   "metadata": {},
   "source": [
    "In conclusion, the `summarease.summarize_numeric` module provides an easy way to explore and understand your dataset's numeric features. Whether you're looking for summary statistics or visualizations to analyze distributions and correlations, this tool will help you gain deeper insights into your data."
   ]
  },
  {
   "cell_type": "markdown",
   "metadata": {},
   "source": [
    "## Final notes\n",
    "\n",
    "If you get an error or something went wrong during the usage of the function, you can always submit an issue in the github repo which will be addressed as soon as possible. Thanks for your time! "
   ]
  }
 ],
 "metadata": {
  "kernelspec": {
   "display_name": "Python 3 (ipykernel)",
   "language": "python",
   "name": "python3"
  },
  "language_info": {
   "codemirror_mode": {
    "name": "ipython",
    "version": 3
   },
   "file_extension": ".py",
   "mimetype": "text/x-python",
   "name": "python",
   "nbconvert_exporter": "python",
   "pygments_lexer": "ipython3",
   "version": "3.11.11"
  }
 },
 "nbformat": 4,
 "nbformat_minor": 4
}
