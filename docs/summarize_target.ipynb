{
 "cells": [
  {
   "cell_type": "markdown",
   "metadata": {},
   "source": [
    "# Summarize_target\n",
    "\n",
    "This tutorial will guide you through the `summarease.summarize_target` module, which includes tools to summarize target variables and visualize class balance, making it easier to evaluate target variable characteristics.\n",
    "\n",
    "## Getting Started\n",
    "\n",
    "The `summarease.summarize_target` module provides the following core functionalities:\n",
    "\n",
    "1. Summarizing Target Variables:\n",
    "- Handles both categorical and numerical target variables.  \n",
    "- Outputs class proportions and imbalance flags with threshold for categorical targets.  \n",
    "- Provides basic statistical summaries for numerical targets.\n",
    "\n",
    "2. Visualizing Target Balance:\n",
    "- Generates bar plots to visualize class proportions and expected balanced ranges for categorical targets.  \n",
    "- Highlights imbalanced classes with different colors for easy identification.\n",
    "\n",
    "## Necessary Libraries\n",
    "\n",
    "To use the `summarease.summarize_target` module, ensure the following libraries are installed:"
   ]
  },
  {
   "cell_type": "code",
   "execution_count": 1,
   "metadata": {},
   "outputs": [],
   "source": [
    "import pandas as pd\n",
    "import altair as alt\n",
    "from summarease.summarize_target import summarize_target_df, summarize_target_balance_plot"
   ]
  },
  {
   "cell_type": "markdown",
   "metadata": {},
   "source": [
    "## Example Dataset\n",
    "\n",
    "We'll use the following datasets to demonstrate the module's functionality:\n",
    "\n",
    "#### Dataset 1: Categorical Target Dataset"
   ]
  },
  {
   "cell_type": "code",
   "execution_count": 2,
   "metadata": {},
   "outputs": [],
   "source": [
    "categorical_data = pd.DataFrame({\n",
    "    'target': ['A', 'A', 'B', 'B', 'C', 'C', 'C', 'D', 'D', 'D', 'D']\n",
    "})"
   ]
  },
  {
   "cell_type": "markdown",
   "metadata": {},
   "source": [
    "#### Dataset 2: Numerical Target Dataset"
   ]
  },
  {
   "cell_type": "code",
   "execution_count": 3,
   "metadata": {},
   "outputs": [],
   "source": [
    "numerical_data = pd.DataFrame({\n",
    "    'target': [1.2, 2.3, 3.1, 4.8, 5.5, 6.7, 8.9, 10.1]\n",
    "})"
   ]
  },
  {
   "cell_type": "markdown",
   "metadata": {},
   "source": [
    "## How to Apply summarease.summarize_target Module\n",
    "\n",
    "1. Summarizing Target Variables with `summarize_target_df`\n",
    "\n",
    "This function calculates the class proportions and checks imbalance for categorical targets, and provides basic statistical summaries for numerical targets. There are four parameters for `summarize_target`.  \n",
    "\n",
    "- dataset_name: The input dataset containing target variable. It must be a DataFrame.\n",
    "- target_variable: The name of target column. It must be a string.\n",
    "- target_type: The type of target variable. It must be a string and within {\"categorical\", \"numerical\"}.\n",
    "- threshold: Only feasible for \"categorical\" type to identify class imbalance. It must be a float and the default value is 0.2. It will raise an warning if you transfer a value into the function when `target_type` is numerical.\n",
    "\n",
    "The following are two examples for demestrating using `summarize_target` for both categorical and numerical targets.\n",
    "   \n",
    "Example 1: Summarizing a Categorical Target"
   ]
  },
  {
   "cell_type": "code",
   "execution_count": 4,
   "metadata": {},
   "outputs": [
    {
     "name": "stdout",
     "output_type": "stream",
     "text": [
      "  class  proportion  imbalanced  threshold\n",
      "0     A    0.181818        True        0.2\n",
      "1     B    0.181818        True        0.2\n",
      "2     C    0.272727       False        0.2\n",
      "3     D    0.363636        True        0.2\n"
     ]
    }
   ],
   "source": [
    "# Summarize the categorical target variable\n",
    "summary_categorical = summarize_target_df(\n",
    "    dataset_name=categorical_data, \n",
    "    target_variable='target', \n",
    "    target_type='categorical', \n",
    "    threshold=0.2\n",
    ")\n",
    "print(summary_categorical)"
   ]
  },
  {
   "cell_type": "markdown",
   "metadata": {},
   "source": [
    "Example 2: Summarizing a Numerical Target"
   ]
  },
  {
   "cell_type": "code",
   "execution_count": 5,
   "metadata": {},
   "outputs": [
    {
     "name": "stdout",
     "output_type": "stream",
     "text": [
      "        count   mean       std  min  25%   50%   75%   max\n",
      "target    8.0  5.325  3.137219  1.2  2.9  5.15  7.25  10.1\n"
     ]
    }
   ],
   "source": [
    "# Summarize the numerical target variable\n",
    "summary_numerical = summarize_target_df(\n",
    "    dataset_name=numerical_data, \n",
    "    target_variable='target', \n",
    "    target_type='numerical'\n",
    ")\n",
    "print(summary_numerical)"
   ]
  },
  {
   "cell_type": "markdown",
   "metadata": {},
   "source": [
    "2. Visualizing Target Balance with `summarize_target_balance_plot`  \n",
    "\n",
    "This function visualizes the balance condition of a categorical target variable using an interactive bar plot. There are one parameter in `summarize_target_balance_plot`.\n",
    "\n",
    "- summary_df: The input DataFrame, expected to match the output of summarize_target_df() when target_type is categorical. It must contain the columns ['class', 'proportion', 'imbalanced', 'threshold'].\n",
    "\n",
    "The following is an example for demostrating the usage of `summarize_target_balance_plot`.\n",
    "\n",
    "Example: Visualizing Class Balance"
   ]
  },
  {
   "cell_type": "code",
   "execution_count": 6,
   "metadata": {},
   "outputs": [
    {
     "data": {
      "text/html": [
       "\n",
       "<style>\n",
       "  #altair-viz-9e0b6e788121404f9bbd9707413c04f3.vega-embed {\n",
       "    width: 100%;\n",
       "    display: flex;\n",
       "  }\n",
       "\n",
       "  #altair-viz-9e0b6e788121404f9bbd9707413c04f3.vega-embed details,\n",
       "  #altair-viz-9e0b6e788121404f9bbd9707413c04f3.vega-embed details summary {\n",
       "    position: relative;\n",
       "  }\n",
       "</style>\n",
       "<div id=\"altair-viz-9e0b6e788121404f9bbd9707413c04f3\"></div>\n",
       "<script type=\"text/javascript\">\n",
       "  var VEGA_DEBUG = (typeof VEGA_DEBUG == \"undefined\") ? {} : VEGA_DEBUG;\n",
       "  (function(spec, embedOpt){\n",
       "    let outputDiv = document.currentScript.previousElementSibling;\n",
       "    if (outputDiv.id !== \"altair-viz-9e0b6e788121404f9bbd9707413c04f3\") {\n",
       "      outputDiv = document.getElementById(\"altair-viz-9e0b6e788121404f9bbd9707413c04f3\");\n",
       "    }\n",
       "\n",
       "    const paths = {\n",
       "      \"vega\": \"https://cdn.jsdelivr.net/npm/vega@5?noext\",\n",
       "      \"vega-lib\": \"https://cdn.jsdelivr.net/npm/vega-lib?noext\",\n",
       "      \"vega-lite\": \"https://cdn.jsdelivr.net/npm/vega-lite@5.20.1?noext\",\n",
       "      \"vega-embed\": \"https://cdn.jsdelivr.net/npm/vega-embed@6?noext\",\n",
       "    };\n",
       "\n",
       "    function maybeLoadScript(lib, version) {\n",
       "      var key = `${lib.replace(\"-\", \"\")}_version`;\n",
       "      return (VEGA_DEBUG[key] == version) ?\n",
       "        Promise.resolve(paths[lib]) :\n",
       "        new Promise(function(resolve, reject) {\n",
       "          var s = document.createElement('script');\n",
       "          document.getElementsByTagName(\"head\")[0].appendChild(s);\n",
       "          s.async = true;\n",
       "          s.onload = () => {\n",
       "            VEGA_DEBUG[key] = version;\n",
       "            return resolve(paths[lib]);\n",
       "          };\n",
       "          s.onerror = () => reject(`Error loading script: ${paths[lib]}`);\n",
       "          s.src = paths[lib];\n",
       "        });\n",
       "    }\n",
       "\n",
       "    function showError(err) {\n",
       "      outputDiv.innerHTML = `<div class=\"error\" style=\"color:red;\">${err}</div>`;\n",
       "      throw err;\n",
       "    }\n",
       "\n",
       "    function displayChart(vegaEmbed) {\n",
       "      vegaEmbed(outputDiv, spec, embedOpt)\n",
       "        .catch(err => showError(`Javascript Error: ${err.message}<br>This usually means there's a typo in your chart specification. See the javascript console for the full traceback.`));\n",
       "    }\n",
       "\n",
       "    if(typeof define === \"function\" && define.amd) {\n",
       "      requirejs.config({paths});\n",
       "      let deps = [\"vega-embed\"];\n",
       "      require(deps, displayChart, err => showError(`Error loading script: ${err.message}`));\n",
       "    } else {\n",
       "      maybeLoadScript(\"vega\", \"5\")\n",
       "        .then(() => maybeLoadScript(\"vega-lite\", \"5.20.1\"))\n",
       "        .then(() => maybeLoadScript(\"vega-embed\", \"6\"))\n",
       "        .catch(showError)\n",
       "        .then(() => displayChart(vegaEmbed));\n",
       "    }\n",
       "  })({\"config\": {\"view\": {\"continuousWidth\": 300, \"continuousHeight\": 300}}, \"layer\": [{\"mark\": {\"type\": \"bar\", \"opacity\": 0.6}, \"encoding\": {\"color\": {\"field\": \"imbalanced\", \"legend\": {\"title\": \"Imbalanced\"}, \"scale\": {\"domain\": [true, false], \"range\": [\"red\", \"green\"]}, \"type\": \"nominal\"}, \"tooltip\": [{\"field\": \"class\", \"type\": \"nominal\"}, {\"field\": \"proportion\", \"type\": \"quantitative\"}, {\"field\": \"imbalanced\", \"type\": \"nominal\"}], \"x\": {\"field\": \"class\", \"title\": \"Class\", \"type\": \"nominal\"}, \"y\": {\"field\": \"proportion\", \"title\": \"Proportion\", \"type\": \"quantitative\"}}}, {\"mark\": {\"type\": \"errorbar\", \"color\": \"black\"}, \"encoding\": {\"x\": {\"field\": \"class\", \"title\": \"Class\", \"type\": \"nominal\"}, \"y\": {\"field\": \"expected_lower\", \"title\": \"Expected Proportion Range\", \"type\": \"quantitative\"}, \"y2\": {\"field\": \"expected_upper\"}}}, {\"mark\": {\"type\": \"tick\", \"color\": \"black\", \"size\": 20, \"thickness\": 2}, \"encoding\": {\"x\": {\"field\": \"class\", \"title\": \"Class\", \"type\": \"nominal\"}, \"y\": {\"field\": \"expected_lower\", \"type\": \"quantitative\"}}}, {\"mark\": {\"type\": \"tick\", \"color\": \"black\", \"size\": 20, \"thickness\": 2}, \"encoding\": {\"x\": {\"field\": \"class\", \"type\": \"nominal\"}, \"y\": {\"field\": \"expected_upper\", \"type\": \"quantitative\"}}}], \"data\": {\"name\": \"data-e3377a9b0ec3b02db34bdf03b1d1cad0\"}, \"height\": 400, \"title\": \"Categorical Target Balance Visualization\", \"width\": 600, \"$schema\": \"https://vega.github.io/schema/vega-lite/v5.20.1.json\", \"datasets\": {\"data-e3377a9b0ec3b02db34bdf03b1d1cad0\": [{\"class\": \"A\", \"proportion\": 0.18181818181818182, \"imbalanced\": true, \"threshold\": 0.2, \"expected_lower\": 0.2, \"expected_upper\": 0.3}, {\"class\": \"B\", \"proportion\": 0.18181818181818182, \"imbalanced\": true, \"threshold\": 0.2, \"expected_lower\": 0.2, \"expected_upper\": 0.3}, {\"class\": \"C\", \"proportion\": 0.2727272727272727, \"imbalanced\": false, \"threshold\": 0.2, \"expected_lower\": 0.2, \"expected_upper\": 0.3}, {\"class\": \"D\", \"proportion\": 0.36363636363636365, \"imbalanced\": true, \"threshold\": 0.2, \"expected_lower\": 0.2, \"expected_upper\": 0.3}]}}, {\"mode\": \"vega-lite\"});\n",
       "</script>"
      ],
      "text/plain": [
       "alt.LayerChart(...)"
      ]
     },
     "metadata": {},
     "output_type": "display_data"
    }
   ],
   "source": [
    "# Visualize the balance of the categorical target variable\n",
    "balance_plot = summarize_target_balance_plot(summary_categorical)\n",
    "\n",
    "# Display the plot\n",
    "balance_plot.show()"
   ]
  },
  {
   "cell_type": "markdown",
   "metadata": {},
   "source": [
    "The error bars show the balance ranges with the threshold around average proportion(0.2 default). The figure flags the classes within the balance ranges by green and that within imbalance ranges by red."
   ]
  }
 ],
 "metadata": {
  "kernelspec": {
   "display_name": "Python 3 (ipykernel)",
   "language": "python",
   "name": "python3"
  },
  "language_info": {
   "codemirror_mode": {
    "name": "ipython",
    "version": 3
   },
   "file_extension": ".py",
   "mimetype": "text/x-python",
   "name": "python",
   "nbconvert_exporter": "python",
   "pygments_lexer": "ipython3",
   "version": "3.11.11"
  }
 },
 "nbformat": 4,
 "nbformat_minor": 4
}
